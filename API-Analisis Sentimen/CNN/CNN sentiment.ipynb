{
 "cells": [
  {
   "cell_type": "code",
   "execution_count": 1,
   "id": "b4ede58a-49d0-4cbb-bac3-a6daeb5fa5eb",
   "metadata": {
    "tags": []
   },
   "outputs": [],
   "source": [
    "import pandas as pd\n",
    "import numpy as np\n",
    "import re\n",
    "from string import punctuation\n",
    "from sklearn.model_selection import train_test_split\n",
    "from tensorflow.keras.preprocessing.text import Tokenizer\n",
    "from tensorflow.keras.preprocessing.sequence import pad_sequences\n",
    "from tensorflow.keras import layers\n",
    "from sklearn.preprocessing import OneHotEncoder"
   ]
  },
  {
   "cell_type": "markdown",
   "id": "be9c2eab-2e3f-4e0e-ad09-697f4bbf403e",
   "metadata": {},
   "source": [
    "#### Mempersiapkan Dataset"
   ]
  },
  {
   "cell_type": "code",
   "execution_count": 2,
   "id": "be4e7161-4e1d-4bee-8b09-7213c42703c1",
   "metadata": {
    "tags": []
   },
   "outputs": [
    {
     "data": {
      "text/html": [
       "<div>\n",
       "<style scoped>\n",
       "    .dataframe tbody tr th:only-of-type {\n",
       "        vertical-align: middle;\n",
       "    }\n",
       "\n",
       "    .dataframe tbody tr th {\n",
       "        vertical-align: top;\n",
       "    }\n",
       "\n",
       "    .dataframe thead th {\n",
       "        text-align: right;\n",
       "    }\n",
       "</style>\n",
       "<table border=\"1\" class=\"dataframe\">\n",
       "  <thead>\n",
       "    <tr style=\"text-align: right;\">\n",
       "      <th></th>\n",
       "      <th>text</th>\n",
       "      <th>label</th>\n",
       "    </tr>\n",
       "  </thead>\n",
       "  <tbody>\n",
       "    <tr>\n",
       "      <th>0</th>\n",
       "      <td>warung ini dimiliki oleh pengusaha pabrik tahu...</td>\n",
       "      <td>positive</td>\n",
       "    </tr>\n",
       "    <tr>\n",
       "      <th>1</th>\n",
       "      <td>mohon ulama lurus dan k212 mmbri hujjah partai...</td>\n",
       "      <td>neutral</td>\n",
       "    </tr>\n",
       "    <tr>\n",
       "      <th>2</th>\n",
       "      <td>lokasi strategis di jalan sumatera bandung . t...</td>\n",
       "      <td>positive</td>\n",
       "    </tr>\n",
       "    <tr>\n",
       "      <th>3</th>\n",
       "      <td>betapa bahagia nya diri ini saat unboxing pake...</td>\n",
       "      <td>positive</td>\n",
       "    </tr>\n",
       "    <tr>\n",
       "      <th>4</th>\n",
       "      <td>duh . jadi mahasiswa jangan sombong dong . kas...</td>\n",
       "      <td>negative</td>\n",
       "    </tr>\n",
       "    <tr>\n",
       "      <th>...</th>\n",
       "      <td>...</td>\n",
       "      <td>...</td>\n",
       "    </tr>\n",
       "    <tr>\n",
       "      <th>10995</th>\n",
       "      <td>tidak kecewa</td>\n",
       "      <td>positive</td>\n",
       "    </tr>\n",
       "    <tr>\n",
       "      <th>10996</th>\n",
       "      <td>enak rasa masakan nya apalagi kepiting yang me...</td>\n",
       "      <td>positive</td>\n",
       "    </tr>\n",
       "    <tr>\n",
       "      <th>10997</th>\n",
       "      <td>hormati partai-partai yang telah berkoalisi</td>\n",
       "      <td>neutral</td>\n",
       "    </tr>\n",
       "    <tr>\n",
       "      <th>10998</th>\n",
       "      <td>pagi pagi di tol pasteur sudah macet parah , b...</td>\n",
       "      <td>negative</td>\n",
       "    </tr>\n",
       "    <tr>\n",
       "      <th>10999</th>\n",
       "      <td>meskipun sering belanja ke yogya di riau junct...</td>\n",
       "      <td>positive</td>\n",
       "    </tr>\n",
       "  </tbody>\n",
       "</table>\n",
       "<p>11000 rows × 2 columns</p>\n",
       "</div>"
      ],
      "text/plain": [
       "                                                    text     label\n",
       "0      warung ini dimiliki oleh pengusaha pabrik tahu...  positive\n",
       "1      mohon ulama lurus dan k212 mmbri hujjah partai...   neutral\n",
       "2      lokasi strategis di jalan sumatera bandung . t...  positive\n",
       "3      betapa bahagia nya diri ini saat unboxing pake...  positive\n",
       "4      duh . jadi mahasiswa jangan sombong dong . kas...  negative\n",
       "...                                                  ...       ...\n",
       "10995                                       tidak kecewa  positive\n",
       "10996  enak rasa masakan nya apalagi kepiting yang me...  positive\n",
       "10997        hormati partai-partai yang telah berkoalisi   neutral\n",
       "10998  pagi pagi di tol pasteur sudah macet parah , b...  negative\n",
       "10999  meskipun sering belanja ke yogya di riau junct...  positive\n",
       "\n",
       "[11000 rows x 2 columns]"
      ]
     },
     "execution_count": 2,
     "metadata": {},
     "output_type": "execute_result"
    }
   ],
   "source": [
    "dataset = pd.read_csv('train_preprocess.tsv.txt', sep=\"\\t\",header=None,names=[\"text\",\"label\"])\n",
    "dataset"
   ]
  },
  {
   "cell_type": "code",
   "execution_count": 3,
   "id": "a366b159-3164-4923-bec6-b2172c1427fd",
   "metadata": {
    "tags": []
   },
   "outputs": [
    {
     "data": {
      "text/plain": [
       "text     0\n",
       "label    0\n",
       "dtype: int64"
      ]
     },
     "execution_count": 3,
     "metadata": {},
     "output_type": "execute_result"
    }
   ],
   "source": [
    "dataset.isna().sum()#aman jaya"
   ]
  },
  {
   "cell_type": "markdown",
   "id": "b4e8adcd-4995-40dd-812c-9ab29529eb2f",
   "metadata": {},
   "source": [
    "#### Normalisasi Text"
   ]
  },
  {
   "cell_type": "code",
   "execution_count": 4,
   "id": "a4f23def-bb15-4739-8ccc-8a24eb0ef859",
   "metadata": {
    "tags": []
   },
   "outputs": [],
   "source": [
    "def lowercasing(paragraph):\n",
    "    return paragraph.lower()\n",
    "\n",
    "def menghilangkan_tandabaca(paragraph):\n",
    "    new_paragraph = re.sub(fr'[{punctuation}]', r'', paragraph)\n",
    "    return new_paragraph"
   ]
  },
  {
   "cell_type": "code",
   "execution_count": 5,
   "id": "a1b97d9e-8515-4d88-9142-1d1fe8e01aa2",
   "metadata": {
    "tags": []
   },
   "outputs": [],
   "source": [
    "def text_normalization(paragraph):\n",
    "    paragraph = lowercasing(paragraph)\n",
    "    paragraph = menghilangkan_tandabaca(paragraph)\n",
    "    paragraph = re.sub(r\"[ ]+\",r' ',paragraph)\n",
    "    return paragraph"
   ]
  },
  {
   "cell_type": "code",
   "execution_count": 49,
   "id": "c4d087bc-4cb2-43de-9682-635045be4255",
   "metadata": {
    "tags": []
   },
   "outputs": [],
   "source": [
    "train_data,test_data=train_test_split(dataset)"
   ]
  },
  {
   "cell_type": "code",
   "execution_count": 50,
   "id": "42901a27-8843-4ce1-9df7-490849a53b99",
   "metadata": {
    "tags": []
   },
   "outputs": [],
   "source": [
    "train_data['text'] = train_data['text'].apply(lambda x: text_normalization(x))\n",
    "test_data['text'] = test_data['text'].apply(lambda x: text_normalization(x))"
   ]
  },
  {
   "cell_type": "markdown",
   "id": "2fb42f7e-a5c6-4fa3-a892-fe04434c7f6b",
   "metadata": {},
   "source": [
    "#### Feature Extraction"
   ]
  },
  {
   "cell_type": "code",
   "execution_count": 8,
   "id": "f5eba5a4-97ba-48a6-a513-65bcc5b79bd8",
   "metadata": {
    "tags": []
   },
   "outputs": [],
   "source": [
    "# max_features = 100000\n",
    "tokenizer = Tokenizer(oov_token='<UNK>')"
   ]
  },
  {
   "cell_type": "code",
   "execution_count": 9,
   "id": "83e170e7-2cd6-47f3-89ee-54bf97d411d5",
   "metadata": {
    "tags": []
   },
   "outputs": [],
   "source": [
    "tokenizer.fit_on_texts(train_data['text'])"
   ]
  },
  {
   "cell_type": "code",
   "execution_count": 10,
   "id": "552a3935-ff24-4279-b94e-469200c42709",
   "metadata": {
    "tags": []
   },
   "outputs": [],
   "source": [
    "train_data_tf = tokenizer.texts_to_sequences(train_data['text'])\n",
    "test_data_tf = tokenizer.texts_to_sequences(test_data['text'])"
   ]
  },
  {
   "cell_type": "code",
   "execution_count": 51,
   "id": "4e26c41e-7635-4278-9a66-b06c7b11a6c0",
   "metadata": {
    "tags": []
   },
   "outputs": [
    {
     "name": "stdout",
     "output_type": "stream",
     "text": [
      "8800\n",
      "2200\n"
     ]
    }
   ],
   "source": [
    "print(len(train_data_tf))\n",
    "print(len(test_data_tf))"
   ]
  },
  {
   "cell_type": "code",
   "execution_count": 12,
   "id": "ce4af62d-89a3-4a8a-a8ed-6dcefa612b4c",
   "metadata": {
    "tags": []
   },
   "outputs": [],
   "source": [
    "# train_padded = pad_sequences(sequences=train_data_tf,padding='post')\n",
    "train_padded = pad_sequences(sequences=train_data_tf,padding='post')\n",
    "max_len = train_padded.shape[1]\n",
    "test_padded = pad_sequences(sequences=test_data_tf,padding='post',maxlen=train_padded.shape[1])"
   ]
  },
  {
   "cell_type": "code",
   "execution_count": 13,
   "id": "4ee5fb17-1ca6-4af7-b3df-5d74caadfe49",
   "metadata": {
    "tags": []
   },
   "outputs": [],
   "source": [
    "onehot = OneHotEncoder()"
   ]
  },
  {
   "cell_type": "code",
   "execution_count": 14,
   "id": "ddd28033-7f34-4914-80d8-52b1077109c8",
   "metadata": {
    "tags": []
   },
   "outputs": [],
   "source": [
    "labels = onehot.fit_transform(train_data[['label']])"
   ]
  },
  {
   "cell_type": "markdown",
   "id": "ec5e8584-b829-438c-8b71-49a9e133a6a9",
   "metadata": {
    "tags": []
   },
   "source": [
    "#### Prepare Train & Test Dataset"
   ]
  },
  {
   "cell_type": "markdown",
   "id": "170551ac-61e8-4740-a904-b36c904cb613",
   "metadata": {},
   "source": [
    "#### Training Model"
   ]
  },
  {
   "cell_type": "code",
   "execution_count": 15,
   "id": "62485190-bdaf-4464-af66-ebbf01c5563e",
   "metadata": {
    "tags": []
   },
   "outputs": [],
   "source": [
    "from tensorflow.keras.models import Sequential\n",
    "model = Sequential()"
   ]
  },
  {
   "cell_type": "code",
   "execution_count": 16,
   "id": "adf1c184-3cc3-42ec-bb52-d4df4da96bdb",
   "metadata": {
    "tags": []
   },
   "outputs": [],
   "source": [
    "max_features = len(tokenizer.index_word)\n",
    "batch_size=64\n",
    "output_dim = 64\n",
    "labels_tmp=32\n",
    "input_len =train_padded.shape[1]"
   ]
  },
  {
   "cell_type": "code",
   "execution_count": 17,
   "id": "403c07a1-f172-4bd9-b9b8-60aa5361864f",
   "metadata": {
    "tags": []
   },
   "outputs": [],
   "source": [
    "model = Sequential()\n",
    "model.add(layers.Embedding(input_dim=max_features,output_dim=output_dim, input_length=input_len))\n",
    "model.add(layers.Conv1D(128, 5, activation='relu'))\n",
    "model.add(layers.GlobalMaxPooling1D())\n",
    "model.add(layers.Dense(10, activation='relu'))\n",
    "model.add(layers.Dense(3, activation='softmax'))"
   ]
  },
  {
   "cell_type": "code",
   "execution_count": 18,
   "id": "82cd2710-c2b9-4078-8347-52e93b11d509",
   "metadata": {
    "tags": []
   },
   "outputs": [],
   "source": [
    "model.compile(loss='categorical_crossentropy', optimizer='adam',metrics=['accuracy'],)"
   ]
  },
  {
   "cell_type": "code",
   "execution_count": 19,
   "id": "d61d5e52-134a-4e9f-aeab-f13ef255a715",
   "metadata": {
    "tags": []
   },
   "outputs": [],
   "source": [
    "max_index_train=int(np.floor(train_padded.shape[0]/batch_size)*batch_size) #ambil data yang sesuai dengan bacth"
   ]
  },
  {
   "cell_type": "code",
   "execution_count": 20,
   "id": "aac809f5-1c63-459f-a41c-9de3cadec669",
   "metadata": {
    "tags": []
   },
   "outputs": [
    {
     "name": "stdout",
     "output_type": "stream",
     "text": [
      "Epoch 1/3\n",
      "109/109 [==============================] - 2s 15ms/step - loss: 0.7533 - accuracy: 0.6697 - val_loss: 0.5374 - val_accuracy: 0.7730\n",
      "Epoch 2/3\n",
      "109/109 [==============================] - 2s 14ms/step - loss: 0.3961 - accuracy: 0.8225 - val_loss: 0.3950 - val_accuracy: 0.8324\n",
      "Epoch 3/3\n",
      "109/109 [==============================] - 2s 15ms/step - loss: 0.2308 - accuracy: 0.9263 - val_loss: 0.3819 - val_accuracy: 0.8600\n"
     ]
    },
    {
     "data": {
      "text/plain": [
       "<keras.src.callbacks.History at 0x136fdf44cd0>"
      ]
     },
     "execution_count": 20,
     "metadata": {},
     "output_type": "execute_result"
    }
   ],
   "source": [
    "model.fit(x=train_padded[:max_index_train], \n",
    "          y=labels.toarray()[:max_index_train],\n",
    "          batch_size=batch_size, \n",
    "          epochs=3, \n",
    "          shuffle=True,validation_split=0.15)"
   ]
  },
  {
   "cell_type": "markdown",
   "id": "df2c8561-23f3-46f5-b854-1234e1aea3fb",
   "metadata": {
    "tags": []
   },
   "source": [
    "#### Model Testing and Evaluation"
   ]
  },
  {
   "cell_type": "code",
   "execution_count": 31,
   "id": "995bd9ed-e850-43e5-831a-9b6852ba85bb",
   "metadata": {
    "tags": []
   },
   "outputs": [],
   "source": [
    "from sklearn.metrics import classification_report"
   ]
  },
  {
   "cell_type": "code",
   "execution_count": 33,
   "id": "d773a07b-0655-42b3-8c71-5c4378c3e168",
   "metadata": {
    "tags": []
   },
   "outputs": [
    {
     "data": {
      "text/plain": [
       "(2750, 91)"
      ]
     },
     "execution_count": 33,
     "metadata": {},
     "output_type": "execute_result"
    }
   ],
   "source": [
    "test_padded.shape"
   ]
  },
  {
   "cell_type": "code",
   "execution_count": 52,
   "id": "d9a0d31c-8836-4779-9f9a-36bf1a7a3836",
   "metadata": {
    "tags": []
   },
   "outputs": [
    {
     "name": "stdout",
     "output_type": "stream",
     "text": [
      "43/43 [==============================] - 0s 4ms/step\n"
     ]
    },
    {
     "data": {
      "text/plain": [
       "array([[0.28021032, 0.05269283, 0.66709685],\n",
       "       [0.25682852, 0.0469746 , 0.69619685],\n",
       "       [0.28109404, 0.05517664, 0.6637293 ],\n",
       "       ...,\n",
       "       [0.39716232, 0.09381261, 0.5090251 ],\n",
       "       [0.34028855, 0.07192573, 0.5877858 ],\n",
       "       [0.4241759 , 0.10377859, 0.47204554]], dtype=float32)"
      ]
     },
     "execution_count": 52,
     "metadata": {},
     "output_type": "execute_result"
    }
   ],
   "source": [
    "prediction=model.predict(test_padded,batch_size=64)\n",
    "prediction"
   ]
  },
  {
   "cell_type": "code",
   "execution_count": 53,
   "id": "da1bed49-1bb7-4c12-a5d2-243874345128",
   "metadata": {
    "tags": []
   },
   "outputs": [
    {
     "data": {
      "text/plain": [
       "2750"
      ]
     },
     "execution_count": 53,
     "metadata": {},
     "output_type": "execute_result"
    }
   ],
   "source": [
    "len(onehot.inverse_transform(prediction))"
   ]
  },
  {
   "cell_type": "code",
   "execution_count": 54,
   "id": "f8a629d4-69ff-4c2b-9e0f-5b7558ee21f8",
   "metadata": {
    "tags": []
   },
   "outputs": [
    {
     "data": {
      "text/html": [
       "<div>\n",
       "<style scoped>\n",
       "    .dataframe tbody tr th:only-of-type {\n",
       "        vertical-align: middle;\n",
       "    }\n",
       "\n",
       "    .dataframe tbody tr th {\n",
       "        vertical-align: top;\n",
       "    }\n",
       "\n",
       "    .dataframe thead th {\n",
       "        text-align: right;\n",
       "    }\n",
       "</style>\n",
       "<table border=\"1\" class=\"dataframe\">\n",
       "  <thead>\n",
       "    <tr style=\"text-align: right;\">\n",
       "      <th></th>\n",
       "      <th>label</th>\n",
       "    </tr>\n",
       "  </thead>\n",
       "  <tbody>\n",
       "    <tr>\n",
       "      <th>6803</th>\n",
       "      <td>negative</td>\n",
       "    </tr>\n",
       "    <tr>\n",
       "      <th>1528</th>\n",
       "      <td>positive</td>\n",
       "    </tr>\n",
       "    <tr>\n",
       "      <th>2344</th>\n",
       "      <td>positive</td>\n",
       "    </tr>\n",
       "    <tr>\n",
       "      <th>6201</th>\n",
       "      <td>positive</td>\n",
       "    </tr>\n",
       "    <tr>\n",
       "      <th>1910</th>\n",
       "      <td>neutral</td>\n",
       "    </tr>\n",
       "    <tr>\n",
       "      <th>...</th>\n",
       "      <td>...</td>\n",
       "    </tr>\n",
       "    <tr>\n",
       "      <th>9188</th>\n",
       "      <td>positive</td>\n",
       "    </tr>\n",
       "    <tr>\n",
       "      <th>3050</th>\n",
       "      <td>negative</td>\n",
       "    </tr>\n",
       "    <tr>\n",
       "      <th>3558</th>\n",
       "      <td>positive</td>\n",
       "    </tr>\n",
       "    <tr>\n",
       "      <th>9832</th>\n",
       "      <td>positive</td>\n",
       "    </tr>\n",
       "    <tr>\n",
       "      <th>6210</th>\n",
       "      <td>positive</td>\n",
       "    </tr>\n",
       "  </tbody>\n",
       "</table>\n",
       "<p>2750 rows × 1 columns</p>\n",
       "</div>"
      ],
      "text/plain": [
       "         label\n",
       "6803  negative\n",
       "1528  positive\n",
       "2344  positive\n",
       "6201  positive\n",
       "1910   neutral\n",
       "...        ...\n",
       "9188  positive\n",
       "3050  negative\n",
       "3558  positive\n",
       "9832  positive\n",
       "6210  positive\n",
       "\n",
       "[2750 rows x 1 columns]"
      ]
     },
     "execution_count": 54,
     "metadata": {},
     "output_type": "execute_result"
    }
   ],
   "source": [
    "test_data[[\"label\"]]"
   ]
  },
  {
   "cell_type": "code",
   "execution_count": 56,
   "id": "67d6d055-6223-4b14-b840-5ee9f00a894d",
   "metadata": {
    "tags": []
   },
   "outputs": [
    {
     "name": "stdout",
     "output_type": "stream",
     "text": [
      "              precision    recall  f1-score   support\n",
      "\n",
      "    negative       0.28      0.11      0.16       840\n",
      "     neutral       0.00      0.00      0.00       307\n",
      "    positive       0.58      0.87      0.69      1603\n",
      "\n",
      "    accuracy                           0.54      2750\n",
      "   macro avg       0.29      0.33      0.28      2750\n",
      "weighted avg       0.42      0.54      0.45      2750\n",
      "\n"
     ]
    },
    {
     "name": "stderr",
     "output_type": "stream",
     "text": [
      "C:\\Users\\ASUS\\anaconda3\\lib\\site-packages\\sklearn\\metrics\\_classification.py:1344: UndefinedMetricWarning: Precision and F-score are ill-defined and being set to 0.0 in labels with no predicted samples. Use `zero_division` parameter to control this behavior.\n",
      "  _warn_prf(average, modifier, msg_start, len(result))\n",
      "C:\\Users\\ASUS\\anaconda3\\lib\\site-packages\\sklearn\\metrics\\_classification.py:1344: UndefinedMetricWarning: Precision and F-score are ill-defined and being set to 0.0 in labels with no predicted samples. Use `zero_division` parameter to control this behavior.\n",
      "  _warn_prf(average, modifier, msg_start, len(result))\n",
      "C:\\Users\\ASUS\\anaconda3\\lib\\site-packages\\sklearn\\metrics\\_classification.py:1344: UndefinedMetricWarning: Precision and F-score are ill-defined and being set to 0.0 in labels with no predicted samples. Use `zero_division` parameter to control this behavior.\n",
      "  _warn_prf(average, modifier, msg_start, len(result))\n"
     ]
    }
   ],
   "source": [
    "print(classification_report(y_true=test_data[[\"label\"]],y_pred=onehot.inverse_transform(prediction)))"
   ]
  },
  {
   "cell_type": "markdown",
   "id": "98a57f12-727b-4c6c-bf99-99d5fdf4bc31",
   "metadata": {},
   "source": [
    "### folding"
   ]
  },
  {
   "cell_type": "code",
   "execution_count": 57,
   "id": "2c087c94-be3c-42dc-b7b1-91dccc96bb81",
   "metadata": {
    "tags": []
   },
   "outputs": [],
   "source": [
    "#semua berjalan dengan lanca maka tinggal copas untuk kfold\n",
    "from sklearn.model_selection import KFold"
   ]
  },
  {
   "cell_type": "code",
   "execution_count": 58,
   "id": "89edbcca-849b-4e72-bc4d-135488bd15bf",
   "metadata": {
    "tags": []
   },
   "outputs": [
    {
     "name": "stdout",
     "output_type": "stream",
     "text": [
      "Epoch 1/3\n",
      "137/137 [==============================] - 2s 13ms/step - loss: 0.7807 - accuracy: 0.6499\n",
      "Epoch 2/3\n",
      "137/137 [==============================] - 2s 13ms/step - loss: 0.3172 - accuracy: 0.8862\n",
      "Epoch 3/3\n",
      "137/137 [==============================] - 2s 13ms/step - loss: 0.1485 - accuracy: 0.9514\n",
      "35/35 [==============================] - 0s 4ms/step\n",
      "              precision    recall  f1-score   support\n",
      "\n",
      "    negative       0.83      0.82      0.83       688\n",
      "     neutral       0.82      0.73      0.77       240\n",
      "    positive       0.90      0.93      0.92      1272\n",
      "\n",
      "    accuracy                           0.87      2200\n",
      "   macro avg       0.85      0.83      0.84      2200\n",
      "weighted avg       0.87      0.87      0.87      2200\n",
      "\n",
      "Epoch 1/3\n",
      "137/137 [==============================] - 2s 14ms/step - loss: 0.6831 - accuracy: 0.7122\n",
      "Epoch 2/3\n",
      "137/137 [==============================] - 2s 13ms/step - loss: 0.3651 - accuracy: 0.8380\n",
      "Epoch 3/3\n",
      "137/137 [==============================] - 2s 13ms/step - loss: 0.1978 - accuracy: 0.9406\n",
      "35/35 [==============================] - 0s 4ms/step\n",
      "              precision    recall  f1-score   support\n",
      "\n",
      "    negative       0.81      0.84      0.82       690\n",
      "     neutral       0.81      0.77      0.79       236\n",
      "    positive       0.92      0.91      0.92      1274\n",
      "\n",
      "    accuracy                           0.88      2200\n",
      "   macro avg       0.85      0.84      0.84      2200\n",
      "weighted avg       0.88      0.88      0.88      2200\n",
      "\n",
      "Epoch 1/3\n",
      "137/137 [==============================] - 2s 13ms/step - loss: 0.7709 - accuracy: 0.7061\n",
      "Epoch 2/3\n",
      "137/137 [==============================] - 2s 13ms/step - loss: 0.3806 - accuracy: 0.8382\n",
      "Epoch 3/3\n",
      "137/137 [==============================] - 2s 14ms/step - loss: 0.2102 - accuracy: 0.9292\n",
      "35/35 [==============================] - 0s 4ms/step\n",
      "              precision    recall  f1-score   support\n",
      "\n",
      "    negative       0.81      0.87      0.84       720\n",
      "     neutral       0.66      0.65      0.66       217\n",
      "    positive       0.93      0.89      0.91      1263\n",
      "\n",
      "    accuracy                           0.86      2200\n",
      "   macro avg       0.80      0.81      0.80      2200\n",
      "weighted avg       0.86      0.86      0.86      2200\n",
      "\n",
      "Epoch 1/3\n",
      "137/137 [==============================] - 2s 14ms/step - loss: 0.6770 - accuracy: 0.7069\n",
      "Epoch 2/3\n",
      "137/137 [==============================] - 2s 14ms/step - loss: 0.3165 - accuracy: 0.8866\n",
      "Epoch 3/3\n",
      "137/137 [==============================] - 2s 14ms/step - loss: 0.1355 - accuracy: 0.9549\n",
      "35/35 [==============================] - 0s 4ms/step\n",
      "              precision    recall  f1-score   support\n",
      "\n",
      "    negative       0.85      0.83      0.84       678\n",
      "     neutral       0.86      0.78      0.82       253\n",
      "    positive       0.90      0.94      0.92      1269\n",
      "\n",
      "    accuracy                           0.88      2200\n",
      "   macro avg       0.87      0.85      0.86      2200\n",
      "weighted avg       0.88      0.88      0.88      2200\n",
      "\n",
      "Epoch 1/3\n",
      "137/137 [==============================] - 2s 14ms/step - loss: 0.7782 - accuracy: 0.6364\n",
      "Epoch 2/3\n",
      "137/137 [==============================] - 2s 15ms/step - loss: 0.3505 - accuracy: 0.8745\n",
      "Epoch 3/3\n",
      "137/137 [==============================] - 2s 15ms/step - loss: 0.1736 - accuracy: 0.9383\n",
      "35/35 [==============================] - 0s 4ms/step\n",
      "              precision    recall  f1-score   support\n",
      "\n",
      "    negative       0.82      0.85      0.83       660\n",
      "     neutral       0.83      0.77      0.80       202\n",
      "    positive       0.93      0.92      0.93      1338\n",
      "\n",
      "    accuracy                           0.89      2200\n",
      "   macro avg       0.86      0.85      0.85      2200\n",
      "weighted avg       0.89      0.89      0.89      2200\n",
      "\n"
     ]
    }
   ],
   "source": [
    "kfold=KFold(random_state=0,shuffle=True)\n",
    "for train,test in kfold.split(dataset):\n",
    "    train_data=dataset.loc[train]\n",
    "    test_data=dataset.loc[test]\n",
    "    onehot=OneHotEncoder()\n",
    "    label=onehot.fit_transform(train_data[[\"label\"]])\n",
    "    \n",
    "    #data udah ada\n",
    "    train_data['text'] = train_data['text'].apply(lambda x: text_normalization(x))\n",
    "    test_data['text'] = test_data['text'].apply(lambda x: text_normalization(x))\n",
    "    \n",
    "    tokenizer=Tokenizer(oov_token=\"UNK\")\n",
    "    tokenizer.fit_on_texts(train_data[\"text\"])\n",
    "    train_data_tf=tokenizer.texts_to_sequences(train_data[\"text\"])\n",
    "    test_data_tf=tokenizer.texts_to_sequences(test_data[\"text\"])\n",
    "    \n",
    "    train_data_pad=pad_sequences(train_data_tf,padding=\"post\")\n",
    "    test_data_pad=pad_sequences(test_data_tf,padding=\"post\",maxlen=train_data_pad.shape[1])\n",
    "    \n",
    "    model=Sequential()\n",
    "    model.add(layers.Embedding(len(tokenizer.index_word),64,input_length=train_data_pad.shape[1]))\n",
    "    model.add(layers.Conv1D(128,5,activation=\"relu\"))\n",
    "    model.add(layers.GlobalMaxPool1D())\n",
    "    model.add(layers.Dense(10,activation=\"relu\"))\n",
    "    model.add(layers.Dense(3,activation=\"softmax\"))\n",
    "    \n",
    "    model.compile(loss='categorical_crossentropy', optimizer='adam',metrics=['accuracy'],)\n",
    "    \n",
    "    batch_size=64\n",
    "    max_index_train=int(np.floor(train_data_pad.shape[0]/batch_size)*batch_size)\n",
    "    model.fit(x=train_data_pad[:max_index_train],y=label.toarray()[:max_index_train],batch_size=64,epochs=3,shuffle=True)\n",
    "    prediction=model.predict(test_data_pad,batch_size=64)\n",
    "    prediction=onehot.inverse_transform(prediction)\n",
    "    print(classification_report(y_true=test_data[[\"label\"]],y_pred=prediction))"
   ]
  },
  {
   "cell_type": "code",
   "execution_count": 59,
   "id": "22d1c336-5c4e-4490-9df3-7ea9311c2e6a",
   "metadata": {
    "tags": []
   },
   "outputs": [
    {
     "name": "stdout",
     "output_type": "stream",
     "text": [
      "              precision    recall  f1-score   support\n",
      "\n",
      "    negative       0.82      0.85      0.83       660\n",
      "     neutral       0.83      0.77      0.80       202\n",
      "    positive       0.93      0.92      0.93      1338\n",
      "\n",
      "    accuracy                           0.89      2200\n",
      "   macro avg       0.86      0.85      0.85      2200\n",
      "weighted avg       0.89      0.89      0.89      2200\n",
      "\n"
     ]
    }
   ],
   "source": [
    "print(classification_report(y_true=test_data[[\"label\"]],y_pred=prediction))"
   ]
  },
  {
   "cell_type": "code",
   "execution_count": 65,
   "id": "d3bebe36-579c-4882-87d4-6b8623e50636",
   "metadata": {
    "tags": []
   },
   "outputs": [],
   "source": [
    "class_report=classification_report(y_true=test_data[[\"label\"]],y_pred=prediction,output_dict=True)"
   ]
  },
  {
   "cell_type": "code",
   "execution_count": 67,
   "id": "11fb5605-fb02-4e15-a6b1-52ff0365c9ef",
   "metadata": {
    "tags": []
   },
   "outputs": [
    {
     "data": {
      "text/plain": [
       "{'negative': {'precision': 0.8165938864628821,\n",
       "  'recall': 0.85,\n",
       "  'f1-score': 0.8329621380846326,\n",
       "  'support': 660},\n",
       " 'neutral': {'precision': 0.8297872340425532,\n",
       "  'recall': 0.7722772277227723,\n",
       "  'f1-score': 0.7999999999999999,\n",
       "  'support': 202},\n",
       " 'positive': {'precision': 0.929811320754717,\n",
       "  'recall': 0.9207772795216741,\n",
       "  'f1-score': 0.9252722493428465,\n",
       "  'support': 1338},\n",
       " 'accuracy': 0.8859090909090909,\n",
       " 'macro avg': {'precision': 0.8587308137533841,\n",
       "  'recall': 0.8476848357481487,\n",
       "  'f1-score': 0.8527447958091597,\n",
       "  'support': 2200},\n",
       " 'weighted avg': {'precision': 0.8866620606872315,\n",
       "  'recall': 0.8859090909090909,\n",
       "  'f1-score': 0.8860769457984483,\n",
       "  'support': 2200}}"
      ]
     },
     "execution_count": 67,
     "metadata": {},
     "output_type": "execute_result"
    }
   ],
   "source": [
    "class_report.im"
   ]
  },
  {
   "cell_type": "code",
   "execution_count": null,
   "id": "b7ee3561-884f-4712-a509-1fed0d2001fe",
   "metadata": {},
   "outputs": [],
   "source": [
    "formatted_report = {\n",
    "    'precision': {},\n",
    "    'recall': {},\n",
    "    'f1-score': {},\n",
    "    'support': {}\n",
    "}\n",
    "\n",
    "for class_label, metrics in class_report.items():\n",
    "    if class_label in ['accuracy', 'macro avg', 'weighted avg']:\n",
    "        continue\n",
    "    formatted_report['precision'][class_label] = metrics['precision']\n",
    "    formatted_report['recall'][class_label] = metrics['recall']\n",
    "    formatted_report['f1-score'][class_label] = metrics['f1-score']\n",
    "    formatted_report['support'][class_label] = metrics['support']\n",
    "\n",
    "# Masukkan metrik keseluruhan\n",
    "overall_metrics = class_report['macro avg']\n",
    "formatted_report['precision']['macro avg'] = overall_metrics['precision']\n",
    "formatted_report['recall']['macro avg'] = overall_metrics['recall']\n",
    "formatted_report['f1-score']['macro avg'] = overall_metrics['f1-score']\n",
    "formatted_report['support']['macro avg'] = overall_metrics['support']\n",
    "\n",
    "# Masukkan metrik weighted average\n",
    "weighted_metrics = class_report['weighted avg']\n",
    "formatted_report['precision']['weighted avg'] = weighted_metrics['precision']\n",
    "formatted_report['recall']['weighted avg'] = weighted_metrics['recall']\n",
    "formatted_report['f1-score']['weighted avg'] = weighted_metrics['f1-score']\n",
    "formatted_report['support']['weighted avg'] = weighted_metrics['support']\n",
    "\n",
    "# Tambahkan accuracy\n",
    "formatted_report['accuracy'] = class_report['accuracy']\n",
    "\n",
    "# Ubah ke dalam format JSON\n",
    "import json\n",
    "formatted_report_json = json.dumps(formatted_report, indent=4)\n",
    "\n",
    "# Simpan ke dalam file JSON\n",
    "with open('formatted_classification_report.json', 'w') as json_file:\n",
    "    json_file.write(formatted_report_json)\n"
   ]
  },
  {
   "cell_type": "code",
   "execution_count": null,
   "id": "35ece834-e740-4df2-8311-4988aa872963",
   "metadata": {},
   "outputs": [],
   "source": []
  },
  {
   "cell_type": "code",
   "execution_count": null,
   "id": "72b3b6f1-20c1-49a9-9813-4ac8282fa785",
   "metadata": {},
   "outputs": [],
   "source": [
    "import pickle\n",
    "pickle.dump(obj=onehot,file=open(\"pickle/onehot.pkl\",'wb'))\n",
    "pickle.dump(obj=tokenizer,file=open(\"pickle/tokenizer.pkl\",'wb'))"
   ]
  },
  {
   "cell_type": "code",
   "execution_count": null,
   "id": "bf2e3cfc-84b0-48fb-842b-040c4e007139",
   "metadata": {
    "tags": []
   },
   "outputs": [],
   "source": [
    "from tensorflow import keras\n",
    "model.save(\"h5/model.h5\")"
   ]
  },
  {
   "cell_type": "code",
   "execution_count": null,
   "id": "d0082b06-eec7-480e-81d7-ce5be6cd9bae",
   "metadata": {
    "tags": []
   },
   "outputs": [],
   "source": [
    "maxlen=train_data_pad.shape[1]#harus diingat untuk padding input"
   ]
  },
  {
   "cell_type": "code",
   "execution_count": null,
   "id": "10945029-9259-4180-a132-779bd1019aa0",
   "metadata": {},
   "outputs": [],
   "source": [
    "report_cnn=classification_report(y_true=test_data[[\"label\"]],y_pred=prediction)"
   ]
  },
  {
   "cell_type": "code",
   "execution_count": null,
   "id": "d47049c5-0b8a-427f-8fc1-4a9d8ffea70c",
   "metadata": {
    "tags": []
   },
   "outputs": [],
   "source": [
    "import json\n",
    "json.dump(report_cnn,open(\"json/report_cnn.json\",\"w\"),indent=4)"
   ]
  },
  {
   "cell_type": "code",
   "execution_count": null,
   "id": "687920c8-f166-4d0c-824e-03a66fb11bfe",
   "metadata": {
    "tags": []
   },
   "outputs": [],
   "source": [
    "train_data_pad.shape"
   ]
  },
  {
   "cell_type": "code",
   "execution_count": null,
   "id": "a0261823-03ff-445c-afaf-00598fe33913",
   "metadata": {},
   "outputs": [],
   "source": []
  }
 ],
 "metadata": {
  "kernelspec": {
   "display_name": "Python 3 (ipykernel)",
   "language": "python",
   "name": "python3"
  },
  "language_info": {
   "codemirror_mode": {
    "name": "ipython",
    "version": 3
   },
   "file_extension": ".py",
   "mimetype": "text/x-python",
   "name": "python",
   "nbconvert_exporter": "python",
   "pygments_lexer": "ipython3",
   "version": "3.10.9"
  }
 },
 "nbformat": 4,
 "nbformat_minor": 5
}

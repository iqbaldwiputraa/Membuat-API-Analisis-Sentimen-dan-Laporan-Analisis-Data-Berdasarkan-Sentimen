{
 "cells": [
  {
   "cell_type": "markdown",
   "metadata": {
    "id": "d6lv4fPk8v8r"
   },
   "source": [
    "Import Libarary"
   ]
  },
  {
   "cell_type": "code",
   "execution_count": 2,
   "metadata": {
    "id": "w0tFIJLT1PBh"
   },
   "outputs": [
    {
     "name": "stderr",
     "output_type": "stream",
     "text": [
      "[nltk_data] Downloading package punkt to\n",
      "[nltk_data]     C:\\Users\\iqbal\\AppData\\Roaming\\nltk_data...\n",
      "[nltk_data]   Package punkt is already up-to-date!\n"
     ]
    },
    {
     "data": {
      "text/plain": [
       "True"
      ]
     },
     "execution_count": 2,
     "metadata": {},
     "output_type": "execute_result"
    }
   ],
   "source": [
    "import pandas as pd\n",
    "import numpy as py\n",
    "import scipy.stats as st\n",
    "import matplotlib.pyplot as plt\n",
    "import seaborn as sns\n",
    "from sklearn.feature_extraction.text import CountVectorizer, TfidfVectorizer\n",
    "from sklearn.model_selection import train_test_split\n",
    "from sklearn.decomposition import PCA, TruncatedSVD\n",
    "import nltk\n",
    "nltk.download('punkt')"
   ]
  },
  {
   "cell_type": "markdown",
   "metadata": {
    "id": "FaBOY0H897zd"
   },
   "source": [
    "Buka Data"
   ]
  },
  {
   "cell_type": "code",
   "execution_count": 3,
   "metadata": {
    "id": "DVoM1frC59Lh"
   },
   "outputs": [],
   "source": [
    "df = pd.read_csv(\"C:/Users/iqbal/Downloads/CHALLANGE PLATINUM/train_preprocess.tsv.txt\",encoding=\"latin1\",sep='\\t',header=None,names=[\"text\",\"label\"])"
   ]
  },
  {
   "cell_type": "code",
   "execution_count": 4,
   "metadata": {
    "colab": {
     "base_uri": "https://localhost:8080/",
     "height": 423
    },
    "id": "0E0Mnd7F9AiI",
    "outputId": "6e45b3a3-1ea6-4317-9bde-4476f271b12d"
   },
   "outputs": [
    {
     "data": {
      "text/html": [
       "<div>\n",
       "<style scoped>\n",
       "    .dataframe tbody tr th:only-of-type {\n",
       "        vertical-align: middle;\n",
       "    }\n",
       "\n",
       "    .dataframe tbody tr th {\n",
       "        vertical-align: top;\n",
       "    }\n",
       "\n",
       "    .dataframe thead th {\n",
       "        text-align: right;\n",
       "    }\n",
       "</style>\n",
       "<table border=\"1\" class=\"dataframe\">\n",
       "  <thead>\n",
       "    <tr style=\"text-align: right;\">\n",
       "      <th></th>\n",
       "      <th>text</th>\n",
       "      <th>label</th>\n",
       "    </tr>\n",
       "  </thead>\n",
       "  <tbody>\n",
       "    <tr>\n",
       "      <th>0</th>\n",
       "      <td>warung ini dimiliki oleh pengusaha pabrik tahu...</td>\n",
       "      <td>positive</td>\n",
       "    </tr>\n",
       "    <tr>\n",
       "      <th>1</th>\n",
       "      <td>mohon ulama lurus dan k212 mmbri hujjah partai...</td>\n",
       "      <td>neutral</td>\n",
       "    </tr>\n",
       "    <tr>\n",
       "      <th>2</th>\n",
       "      <td>lokasi strategis di jalan sumatera bandung . t...</td>\n",
       "      <td>positive</td>\n",
       "    </tr>\n",
       "    <tr>\n",
       "      <th>3</th>\n",
       "      <td>betapa bahagia nya diri ini saat unboxing pake...</td>\n",
       "      <td>positive</td>\n",
       "    </tr>\n",
       "    <tr>\n",
       "      <th>4</th>\n",
       "      <td>duh . jadi mahasiswa jangan sombong dong . kas...</td>\n",
       "      <td>negative</td>\n",
       "    </tr>\n",
       "    <tr>\n",
       "      <th>...</th>\n",
       "      <td>...</td>\n",
       "      <td>...</td>\n",
       "    </tr>\n",
       "    <tr>\n",
       "      <th>10995</th>\n",
       "      <td>tidak kecewa</td>\n",
       "      <td>positive</td>\n",
       "    </tr>\n",
       "    <tr>\n",
       "      <th>10996</th>\n",
       "      <td>enak rasa masakan nya apalagi kepiting yang me...</td>\n",
       "      <td>positive</td>\n",
       "    </tr>\n",
       "    <tr>\n",
       "      <th>10997</th>\n",
       "      <td>hormati partai-partai yang telah berkoalisi</td>\n",
       "      <td>neutral</td>\n",
       "    </tr>\n",
       "    <tr>\n",
       "      <th>10998</th>\n",
       "      <td>pagi pagi di tol pasteur sudah macet parah , b...</td>\n",
       "      <td>negative</td>\n",
       "    </tr>\n",
       "    <tr>\n",
       "      <th>10999</th>\n",
       "      <td>meskipun sering belanja ke yogya di riau junct...</td>\n",
       "      <td>positive</td>\n",
       "    </tr>\n",
       "  </tbody>\n",
       "</table>\n",
       "<p>11000 rows × 2 columns</p>\n",
       "</div>"
      ],
      "text/plain": [
       "                                                    text     label\n",
       "0      warung ini dimiliki oleh pengusaha pabrik tahu...  positive\n",
       "1      mohon ulama lurus dan k212 mmbri hujjah partai...   neutral\n",
       "2      lokasi strategis di jalan sumatera bandung . t...  positive\n",
       "3      betapa bahagia nya diri ini saat unboxing pake...  positive\n",
       "4      duh . jadi mahasiswa jangan sombong dong . kas...  negative\n",
       "...                                                  ...       ...\n",
       "10995                                       tidak kecewa  positive\n",
       "10996  enak rasa masakan nya apalagi kepiting yang me...  positive\n",
       "10997        hormati partai-partai yang telah berkoalisi   neutral\n",
       "10998  pagi pagi di tol pasteur sudah macet parah , b...  negative\n",
       "10999  meskipun sering belanja ke yogya di riau junct...  positive\n",
       "\n",
       "[11000 rows x 2 columns]"
      ]
     },
     "execution_count": 4,
     "metadata": {},
     "output_type": "execute_result"
    }
   ],
   "source": [
    "df"
   ]
  },
  {
   "cell_type": "code",
   "execution_count": 5,
   "metadata": {
    "colab": {
     "base_uri": "https://localhost:8080/"
    },
    "id": "u1s0MfLW7vmB",
    "outputId": "87853266-1495-45e9-c8a5-61c0640415a6"
   },
   "outputs": [
    {
     "data": {
      "text/plain": [
       "text     0\n",
       "label    0\n",
       "dtype: int64"
      ]
     },
     "execution_count": 5,
     "metadata": {},
     "output_type": "execute_result"
    }
   ],
   "source": [
    "df.isnull().sum()"
   ]
  },
  {
   "cell_type": "code",
   "execution_count": 6,
   "metadata": {
    "colab": {
     "base_uri": "https://localhost:8080/"
    },
    "id": "YNCFIj1677Gc",
    "outputId": "8f76b18f-0e56-4067-bdb2-5f452cbe5ca8"
   },
   "outputs": [
    {
     "data": {
      "text/plain": [
       "67"
      ]
     },
     "execution_count": 6,
     "metadata": {},
     "output_type": "execute_result"
    }
   ],
   "source": [
    "df.duplicated().sum()"
   ]
  },
  {
   "cell_type": "markdown",
   "metadata": {
    "id": "WqzjA1ji-ARP"
   },
   "source": [
    "Tokenization"
   ]
  },
  {
   "cell_type": "code",
   "execution_count": 7,
   "metadata": {
    "id": "Do-5KuJu-ces"
   },
   "outputs": [],
   "source": [
    "x_train, x_test, y_train, y_test = train_test_split(df[\"text\"],df[\"label\"],test_size=0.1)"
   ]
  },
  {
   "cell_type": "code",
   "execution_count": 8,
   "metadata": {
    "id": "jQ9joOJD-BTM"
   },
   "outputs": [],
   "source": [
    "cv = CountVectorizer()"
   ]
  },
  {
   "cell_type": "code",
   "execution_count": 9,
   "metadata": {
    "id": "uXuOuEN__XYJ"
   },
   "outputs": [],
   "source": [
    "x_train_cv=cv.fit_transform(x_train)\n",
    "x_test_cv=cv.transform(x_test)"
   ]
  },
  {
   "cell_type": "code",
   "execution_count": 10,
   "metadata": {
    "colab": {
     "base_uri": "https://localhost:8080/"
    },
    "id": "YIH15EFpEkql",
    "outputId": "abe51272-d878-4d82-b38b-466a40ef0053"
   },
   "outputs": [
    {
     "data": {
      "text/plain": [
       "9542     suasana di sini sangat enak , makan di atas te...\n",
       "3781     bbc indonesia - pilkada 2018 : partai demokrat...\n",
       "4370     jadi begini nih rasanya cemburu , tidak enak b...\n",
       "10235    salah satu restoran seafood terbaik di bandung...\n",
       "3448     jika anda adalah pecinta makanan pedas , nasi ...\n",
       "                               ...                        \n",
       "3276     dengan beberapa cabang di kota besar dan revie...\n",
       "2857     suku lampung anjing semua , setuju tidak kalau...\n",
       "1945     restoran nya unik . satu saung terpisah agak j...\n",
       "10314    aneka minuman segar ini menjadi pelengkap kuli...\n",
       "9808     to the point saja : - salah satu tempat wajib ...\n",
       "Name: text, Length: 9900, dtype: object"
      ]
     },
     "execution_count": 10,
     "metadata": {},
     "output_type": "execute_result"
    }
   ],
   "source": [
    "x_train"
   ]
  },
  {
   "cell_type": "code",
   "execution_count": 11,
   "metadata": {
    "colab": {
     "base_uri": "https://localhost:8080/"
    },
    "id": "FNgXUE6xE_uV",
    "outputId": "4cb4057b-4058-49e8-d233-8d55333dd684"
   },
   "outputs": [
    {
     "data": {
      "text/plain": [
       "9542     positive\n",
       "3781      neutral\n",
       "4370     negative\n",
       "10235    positive\n",
       "3448     positive\n",
       "           ...   \n",
       "3276     negative\n",
       "2857     negative\n",
       "1945     positive\n",
       "10314    positive\n",
       "9808     positive\n",
       "Name: label, Length: 9900, dtype: object"
      ]
     },
     "execution_count": 11,
     "metadata": {},
     "output_type": "execute_result"
    }
   ],
   "source": [
    "y_train"
   ]
  },
  {
   "cell_type": "code",
   "execution_count": 12,
   "metadata": {
    "colab": {
     "base_uri": "https://localhost:8080/"
    },
    "id": "VmPwJVsYEmmM",
    "outputId": "60566e09-3b3b-400d-f515-8b6f3a7d4ad0"
   },
   "outputs": [
    {
     "data": {
      "text/plain": [
       "10990    datang ke sini sore hari pakai baju agak tebal...\n",
       "6010     restoran bergaya peranakan . zaman dahulu . ad...\n",
       "9018     ikuti terus twitter dan facebook page samsung ...\n",
       "9189     sadar dirilah wahai monyet-monyet papua yang t...\n",
       "3955     kecewa saya dengan indosat , sampai kesal , ma...\n",
       "                               ...                        \n",
       "9897     pemandangan bandung malam luarbiasa makanan ny...\n",
       "1288     suasana nya sangat-sangat menyenangkan , dingi...\n",
       "9111     pikir beberapa tempat untuk makan malam romant...\n",
       "4744            ini indosat masih belum bisa aku mau marah\n",
       "1630     bagi yang ingin makan tidak terlalu kenyang da...\n",
       "Name: text, Length: 1100, dtype: object"
      ]
     },
     "execution_count": 12,
     "metadata": {},
     "output_type": "execute_result"
    }
   ],
   "source": [
    "x_test"
   ]
  },
  {
   "cell_type": "code",
   "execution_count": 13,
   "metadata": {
    "colab": {
     "base_uri": "https://localhost:8080/"
    },
    "id": "oS2VbcawFE9_",
    "outputId": "066576f8-7c96-431d-fa03-c7d8771e0e5c"
   },
   "outputs": [
    {
     "data": {
      "text/plain": [
       "9542     positive\n",
       "3781      neutral\n",
       "4370     negative\n",
       "10235    positive\n",
       "3448     positive\n",
       "           ...   \n",
       "3276     negative\n",
       "2857     negative\n",
       "1945     positive\n",
       "10314    positive\n",
       "9808     positive\n",
       "Name: label, Length: 9900, dtype: object"
      ]
     },
     "execution_count": 13,
     "metadata": {},
     "output_type": "execute_result"
    }
   ],
   "source": [
    "y_train"
   ]
  },
  {
   "cell_type": "code",
   "execution_count": 14,
   "metadata": {
    "colab": {
     "base_uri": "https://localhost:8080/"
    },
    "id": "t1NStp72EoU3",
    "outputId": "3ae98d22-f19f-484e-9da4-f341224c3190"
   },
   "outputs": [
    {
     "data": {
      "text/plain": [
       "<9900x16347 sparse matrix of type '<class 'numpy.int64'>'\n",
       "\twith 242712 stored elements in Compressed Sparse Row format>"
      ]
     },
     "execution_count": 14,
     "metadata": {},
     "output_type": "execute_result"
    }
   ],
   "source": [
    "x_train_cv"
   ]
  },
  {
   "cell_type": "code",
   "execution_count": 15,
   "metadata": {
    "colab": {
     "base_uri": "https://localhost:8080/"
    },
    "id": "69ORkMMxE04P",
    "outputId": "2b53d10c-2705-413a-e9f0-da61a5da23e2"
   },
   "outputs": [
    {
     "data": {
      "text/plain": [
       "<1100x16347 sparse matrix of type '<class 'numpy.int64'>'\n",
       "\twith 25450 stored elements in Compressed Sparse Row format>"
      ]
     },
     "execution_count": 15,
     "metadata": {},
     "output_type": "execute_result"
    }
   ],
   "source": [
    "x_test_cv"
   ]
  },
  {
   "cell_type": "markdown",
   "metadata": {
    "id": "4TVH2L21_3EY"
   },
   "source": [
    "Modelling"
   ]
  },
  {
   "cell_type": "code",
   "execution_count": 16,
   "metadata": {
    "id": "by_kppi__5Lj"
   },
   "outputs": [],
   "source": [
    "from sklearn.linear_model import LogisticRegression\n",
    "from sklearn.metrics import roc_auc_score, accuracy_score"
   ]
  },
  {
   "cell_type": "code",
   "execution_count": 17,
   "metadata": {
    "id": "c-0f7fhg_7am"
   },
   "outputs": [],
   "source": [
    "lr=LogisticRegression()"
   ]
  },
  {
   "cell_type": "code",
   "execution_count": 18,
   "metadata": {},
   "outputs": [],
   "source": [
    "from sklearn.linear_model import LogisticRegression\n",
    "\n",
    "model = LogisticRegression(max_iter=1000)  # Atur nilai max_iter sesuai kebutuhan"
   ]
  },
  {
   "cell_type": "code",
   "execution_count": 19,
   "metadata": {
    "colab": {
     "base_uri": "https://localhost:8080/",
     "height": 240
    },
    "id": "KQfcsqzqDoZA",
    "outputId": "b904bbbf-7733-43e1-8d9d-1989652f97ac",
    "scrolled": true
   },
   "outputs": [
    {
     "name": "stderr",
     "output_type": "stream",
     "text": [
      "C:\\Users\\iqbal\\anaconda3\\Lib\\site-packages\\sklearn\\linear_model\\_logistic.py:458: ConvergenceWarning: lbfgs failed to converge (status=1):\n",
      "STOP: TOTAL NO. of ITERATIONS REACHED LIMIT.\n",
      "\n",
      "Increase the number of iterations (max_iter) or scale the data as shown in:\n",
      "    https://scikit-learn.org/stable/modules/preprocessing.html\n",
      "Please also refer to the documentation for alternative solver options:\n",
      "    https://scikit-learn.org/stable/modules/linear_model.html#logistic-regression\n",
      "  n_iter_i = _check_optimize_result(\n"
     ]
    },
    {
     "data": {
      "text/html": [
       "<style>#sk-container-id-1 {color: black;background-color: white;}#sk-container-id-1 pre{padding: 0;}#sk-container-id-1 div.sk-toggleable {background-color: white;}#sk-container-id-1 label.sk-toggleable__label {cursor: pointer;display: block;width: 100%;margin-bottom: 0;padding: 0.3em;box-sizing: border-box;text-align: center;}#sk-container-id-1 label.sk-toggleable__label-arrow:before {content: \"▸\";float: left;margin-right: 0.25em;color: #696969;}#sk-container-id-1 label.sk-toggleable__label-arrow:hover:before {color: black;}#sk-container-id-1 div.sk-estimator:hover label.sk-toggleable__label-arrow:before {color: black;}#sk-container-id-1 div.sk-toggleable__content {max-height: 0;max-width: 0;overflow: hidden;text-align: left;background-color: #f0f8ff;}#sk-container-id-1 div.sk-toggleable__content pre {margin: 0.2em;color: black;border-radius: 0.25em;background-color: #f0f8ff;}#sk-container-id-1 input.sk-toggleable__control:checked~div.sk-toggleable__content {max-height: 200px;max-width: 100%;overflow: auto;}#sk-container-id-1 input.sk-toggleable__control:checked~label.sk-toggleable__label-arrow:before {content: \"▾\";}#sk-container-id-1 div.sk-estimator input.sk-toggleable__control:checked~label.sk-toggleable__label {background-color: #d4ebff;}#sk-container-id-1 div.sk-label input.sk-toggleable__control:checked~label.sk-toggleable__label {background-color: #d4ebff;}#sk-container-id-1 input.sk-hidden--visually {border: 0;clip: rect(1px 1px 1px 1px);clip: rect(1px, 1px, 1px, 1px);height: 1px;margin: -1px;overflow: hidden;padding: 0;position: absolute;width: 1px;}#sk-container-id-1 div.sk-estimator {font-family: monospace;background-color: #f0f8ff;border: 1px dotted black;border-radius: 0.25em;box-sizing: border-box;margin-bottom: 0.5em;}#sk-container-id-1 div.sk-estimator:hover {background-color: #d4ebff;}#sk-container-id-1 div.sk-parallel-item::after {content: \"\";width: 100%;border-bottom: 1px solid gray;flex-grow: 1;}#sk-container-id-1 div.sk-label:hover label.sk-toggleable__label {background-color: #d4ebff;}#sk-container-id-1 div.sk-serial::before {content: \"\";position: absolute;border-left: 1px solid gray;box-sizing: border-box;top: 0;bottom: 0;left: 50%;z-index: 0;}#sk-container-id-1 div.sk-serial {display: flex;flex-direction: column;align-items: center;background-color: white;padding-right: 0.2em;padding-left: 0.2em;position: relative;}#sk-container-id-1 div.sk-item {position: relative;z-index: 1;}#sk-container-id-1 div.sk-parallel {display: flex;align-items: stretch;justify-content: center;background-color: white;position: relative;}#sk-container-id-1 div.sk-item::before, #sk-container-id-1 div.sk-parallel-item::before {content: \"\";position: absolute;border-left: 1px solid gray;box-sizing: border-box;top: 0;bottom: 0;left: 50%;z-index: -1;}#sk-container-id-1 div.sk-parallel-item {display: flex;flex-direction: column;z-index: 1;position: relative;background-color: white;}#sk-container-id-1 div.sk-parallel-item:first-child::after {align-self: flex-end;width: 50%;}#sk-container-id-1 div.sk-parallel-item:last-child::after {align-self: flex-start;width: 50%;}#sk-container-id-1 div.sk-parallel-item:only-child::after {width: 0;}#sk-container-id-1 div.sk-dashed-wrapped {border: 1px dashed gray;margin: 0 0.4em 0.5em 0.4em;box-sizing: border-box;padding-bottom: 0.4em;background-color: white;}#sk-container-id-1 div.sk-label label {font-family: monospace;font-weight: bold;display: inline-block;line-height: 1.2em;}#sk-container-id-1 div.sk-label-container {text-align: center;}#sk-container-id-1 div.sk-container {/* jupyter's `normalize.less` sets `[hidden] { display: none; }` but bootstrap.min.css set `[hidden] { display: none !important; }` so we also need the `!important` here to be able to override the default hidden behavior on the sphinx rendered scikit-learn.org. See: https://github.com/scikit-learn/scikit-learn/issues/21755 */display: inline-block !important;position: relative;}#sk-container-id-1 div.sk-text-repr-fallback {display: none;}</style><div id=\"sk-container-id-1\" class=\"sk-top-container\"><div class=\"sk-text-repr-fallback\"><pre>LogisticRegression()</pre><b>In a Jupyter environment, please rerun this cell to show the HTML representation or trust the notebook. <br />On GitHub, the HTML representation is unable to render, please try loading this page with nbviewer.org.</b></div><div class=\"sk-container\" hidden><div class=\"sk-item\"><div class=\"sk-estimator sk-toggleable\"><input class=\"sk-toggleable__control sk-hidden--visually\" id=\"sk-estimator-id-1\" type=\"checkbox\" checked><label for=\"sk-estimator-id-1\" class=\"sk-toggleable__label sk-toggleable__label-arrow\">LogisticRegression</label><div class=\"sk-toggleable__content\"><pre>LogisticRegression()</pre></div></div></div></div></div>"
      ],
      "text/plain": [
       "LogisticRegression()"
      ]
     },
     "execution_count": 19,
     "metadata": {},
     "output_type": "execute_result"
    }
   ],
   "source": [
    "lr.fit(X=x_train_cv, y=y_train)"
   ]
  },
  {
   "cell_type": "code",
   "execution_count": 20,
   "metadata": {
    "colab": {
     "base_uri": "https://localhost:8080/"
    },
    "id": "7gESrhIRFeWc",
    "outputId": "64076b83-d9ae-403b-d1f8-7583c937b960"
   },
   "outputs": [
    {
     "data": {
      "text/plain": [
       "0.9815151515151516"
      ]
     },
     "execution_count": 20,
     "metadata": {},
     "output_type": "execute_result"
    }
   ],
   "source": [
    "lr.score(X=x_train_cv, y=y_train)"
   ]
  },
  {
   "cell_type": "markdown",
   "metadata": {
    "id": "76ASPEgOFndk"
   },
   "source": [
    "Testing"
   ]
  },
  {
   "cell_type": "code",
   "execution_count": 21,
   "metadata": {
    "id": "RE7yWu41FoVq"
   },
   "outputs": [],
   "source": [
    "y_pred=lr.predict(X=x_test_cv)"
   ]
  },
  {
   "cell_type": "code",
   "execution_count": 22,
   "metadata": {
    "colab": {
     "base_uri": "https://localhost:8080/"
    },
    "id": "qDFgUV5XF4lg",
    "outputId": "ee43051f-a956-4741-ce9a-71c02ad76ed7"
   },
   "outputs": [
    {
     "data": {
      "text/plain": [
       "0.8818181818181818"
      ]
     },
     "execution_count": 22,
     "metadata": {},
     "output_type": "execute_result"
    }
   ],
   "source": [
    "accuracy_score(y_true=y_test, y_pred = y_pred)"
   ]
  },
  {
   "cell_type": "code",
   "execution_count": 23,
   "metadata": {},
   "outputs": [],
   "source": [
    "# Ganti 'nama_file.tsv' dengan nama file TSV yang sebenarnya\n",
    "nama_file = 'train_preprocess.tsv'\n",
    "\n",
    "# Membaca file TSV dan menyimpannya dalam sebuah DataFrame\n",
    "df = pd.read_csv(\"C:/Users/iqbal/Downloads/CHALLANGE PLATINUM/train_preprocess.tsv.txt\",encoding=\"latin1\",sep='\\t',header=None,names=[\"text\",\"label\"])\n"
   ]
  },
  {
   "cell_type": "code",
   "execution_count": 24,
   "metadata": {
    "scrolled": false
   },
   "outputs": [
    {
     "name": "stdout",
     "output_type": "stream",
     "text": [
      "Index(['text', 'label'], dtype='object')\n"
     ]
    }
   ],
   "source": [
    "print(df.columns)"
   ]
  },
  {
   "cell_type": "code",
   "execution_count": 25,
   "metadata": {},
   "outputs": [],
   "source": [
    "# Ganti 1000 dengan jumlah sampel yang Anda inginkan\n",
    "sample_data = df.sample(n=1000, random_state=42)"
   ]
  },
  {
   "cell_type": "code",
   "execution_count": 26,
   "metadata": {},
   "outputs": [
    {
     "data": {
      "image/png": "[encoded data removed]",
      "text/plain": [
       "<Figure size 800x600 with 1 Axes>"
      ]
     },
     "metadata": {},
     "output_type": "display_data"
    },
    {
     "data": {
      "image/png": "[encoded data removed]",
      "text/plain": [
       "<Figure size 600x600 with 1 Axes>"
      ]
     },
     "metadata": {},
     "output_type": "display_data"
    }
   ],
   "source": [
    "# Visualisasi distribusi label dengan diagram batang\n",
    "plt.figure(figsize=(8, 6))\n",
    "sns.countplot(x='label', data=df)\n",
    "plt.title('Histogram of Total Character')\n",
    "plt.grid(True)\n",
    "plt.show()\n",
    "\n",
    "# Visualisasi distribusi label dengan diagram pie\n",
    "plt.figure(figsize=(6, 6))\n",
    "df['label'].value_counts().plot(kind='pie', autopct='%1.1f%%')\n",
    "plt.title('Persentase label')\n",
    "plt.show()\n"
   ]
  },
  {
   "cell_type": "code",
   "execution_count": 27,
   "metadata": {},
   "outputs": [
    {
     "name": "stdout",
     "output_type": "stream",
     "text": [
      "                                                text     label\n",
      "0  warung ini dimiliki oleh pengusaha pabrik tahu...  positive\n",
      "1  mohon ulama lurus dan k212 mmbri hujjah partai...   neutral\n",
      "2  lokasi strategis di jalan sumatera bandung . t...  positive\n",
      "3  betapa bahagia nya diri ini saat unboxing pake...  positive\n",
      "4  duh . jadi mahasiswa jangan sombong dong . kas...  negative\n"
     ]
    }
   ],
   "source": [
    "print(df.head())"
   ]
  },
  {
   "cell_type": "code",
   "execution_count": 28,
   "metadata": {},
   "outputs": [
    {
     "name": "stdout",
     "output_type": "stream",
     "text": [
      "                                                text  Word_Count\n",
      "0  warung ini dimiliki oleh pengusaha pabrik tahu...          66\n",
      "1  mohon ulama lurus dan k212 mmbri hujjah partai...          17\n",
      "2  lokasi strategis di jalan sumatera bandung . t...          33\n",
      "3  betapa bahagia nya diri ini saat unboxing pake...          17\n",
      "4  duh . jadi mahasiswa jangan sombong dong . kas...          38\n"
     ]
    }
   ],
   "source": [
    "#Menghitung jumlah kata dalam kolom teks\n",
    "df['Word_Count'] = df['text'].apply(lambda x: len(str(x).split()))\n",
    "print(df[['text', 'Word_Count']].head())"
   ]
  },
  {
   "cell_type": "code",
   "execution_count": 72,
   "metadata": {},
   "outputs": [
    {
     "name": "stdout",
     "output_type": "stream",
     "text": [
      "                                                text  Total_Characters\n",
      "0  warung ini dimiliki oleh pengusaha pabrik tahu...               404\n",
      "1  mohon ulama lurus dan k212 mmbri hujjah partai...               102\n",
      "2  lokasi strategis di jalan sumatera bandung . t...               184\n",
      "3  betapa bahagia nya diri ini saat unboxing pake...                93\n",
      "4  duh . jadi mahasiswa jangan sombong dong . kas...               214\n"
     ]
    }
   ],
   "source": [
    "df['Total_Characters'] = df['text'].apply(lambda x: len(str(x)))\n",
    "print(df[['text', 'Total_Characters']].head())"
   ]
  },
  {
   "cell_type": "code",
   "execution_count": 73,
   "metadata": {},
   "outputs": [],
   "source": [
    "# Jika menggunakan DataFrame\n",
    "# Tokenisasi teks dalam DataFrame (misalnya, kolom 'Text')\n",
    "df['Tokenized_Text'] = df['text'].apply(lambda x: nltk.word_tokenize(x))"
   ]
  },
  {
   "cell_type": "code",
   "execution_count": 74,
   "metadata": {},
   "outputs": [],
   "source": [
    "# Jika menggunakan DataFrame\n",
    "# Hitung total kata pada kolom 'Tokenized_Text'\n",
    "df['Total_Words'] = df['Tokenized_Text'].apply(lambda x: len(x))\n",
    "total_words = df['Total_Words'].sum()"
   ]
  },
  {
   "cell_type": "code",
   "execution_count": 75,
   "metadata": {
    "scrolled": true
   },
   "outputs": [
    {
     "name": "stdout",
     "output_type": "stream",
     "text": [
      "362470\n"
     ]
    }
   ],
   "source": [
    "print(total_words)"
   ]
  },
  {
   "cell_type": "code",
   "execution_count": 76,
   "metadata": {},
   "outputs": [],
   "source": [
    "df['Total_Characters'] = df['Tokenized_Text'].apply(lambda x: sum(len(word) for word in x))\n",
    "total_characters = df['Total_Characters'].sum()"
   ]
  },
  {
   "cell_type": "code",
   "execution_count": 58,
   "metadata": {},
   "outputs": [],
   "source": [
    "# plt.figure(figsize=(8, 6))\n",
    "# plt.hist(df['Total_Words'], bins=10, edgecolor='k', color='skyblue')\n",
    "# plt.xlabel('Total Kata')\n",
    "# plt.ylabel('Frekuensi')\n",
    "# plt.title('Histogram Jumlah Kata dalam Teks')\n",
    "# plt.grid(True)\n",
    "# plt.show()"
   ]
  },
  {
   "cell_type": "code",
   "execution_count": 87,
   "metadata": {},
   "outputs": [],
   "source": [
    "# # Fungsi untuk menghitung jumlah karakter dalam teks\n",
    "# def count_characters(text):\n",
    "#     return len(text)\n",
    "\n",
    "# # Fungsi untuk menghitung jumlah kata dalam teks\n",
    "# def count_words(text):\n",
    "#     tokenized_text = nltk.word_tokenize(text)\n",
    "#     return len(tokenized_text)\n",
    "\n",
    "# Fungsi untuk menghitung total karakter dalam kolom 'Tokenized_Text'\n",
    "def count_characters(text_list):\n",
    "    return sum(len(word) for word in text_list)\n",
    "\n",
    "# Hitung total karakter dalam kolom 'Tokenized_Text'\n",
    "df['Total_Characters'] = df['Tokenized_Text'].apply(count_characters)\n",
    "\n",
    "# Hitung mean dari kolom 'Total_Characters'\n",
    "mean_total_characters = df['Total_Characters'].mean()"
   ]
  },
  {
   "cell_type": "code",
   "execution_count": 91,
   "metadata": {},
   "outputs": [
    {
     "name": "stdout",
     "output_type": "stream",
     "text": [
      "                                                    text     label  \\\n",
      "0      warung ini dimiliki oleh pengusaha pabrik tahu...  positive   \n",
      "1      mohon ulama lurus dan k212 mmbri hujjah partai...   neutral   \n",
      "2      lokasi strategis di jalan sumatera bandung . t...  positive   \n",
      "3      betapa bahagia nya diri ini saat unboxing pake...  positive   \n",
      "4      duh . jadi mahasiswa jangan sombong dong . kas...  negative   \n",
      "...                                                  ...       ...   \n",
      "10995                                       tidak kecewa  positive   \n",
      "10996  enak rasa masakan nya apalagi kepiting yang me...  positive   \n",
      "10997        hormati partai-partai yang telah berkoalisi   neutral   \n",
      "10998  pagi pagi di tol pasteur sudah macet parah , b...  negative   \n",
      "10999  meskipun sering belanja ke yogya di riau junct...  positive   \n",
      "\n",
      "       Word_Count                                     Tokenized_Text  \\\n",
      "0              66  [warung, ini, dimiliki, oleh, pengusaha, pabri...   \n",
      "1              17  [mohon, ulama, lurus, dan, k212, mmbri, hujjah...   \n",
      "2              33  [lokasi, strategis, di, jalan, sumatera, bandu...   \n",
      "3              17  [betapa, bahagia, nya, diri, ini, saat, unboxi...   \n",
      "4              38  [duh, ., jadi, mahasiswa, jangan, sombong, don...   \n",
      "...           ...                                                ...   \n",
      "10995           2                                    [tidak, kecewa]   \n",
      "10996          26  [enak, rasa, masakan, nya, apalagi, kepiting, ...   \n",
      "10997           5  [hormati, partai-partai, yang, telah, berkoalisi]   \n",
      "10998          13  [pagi, pagi, di, tol, pasteur, sudah, macet, p...   \n",
      "10999          68  [meskipun, sering, belanja, ke, yogya, di, ria...   \n",
      "\n",
      "       Total_Words  Total_Characters  \n",
      "0               66               339  \n",
      "1               17                86  \n",
      "2               33               152  \n",
      "3               17                77  \n",
      "4               38               177  \n",
      "...            ...               ...  \n",
      "10995            2                11  \n",
      "10996           26               131  \n",
      "10997            5                39  \n",
      "10998           13                55  \n",
      "10999           68               320  \n",
      "\n",
      "[11000 rows x 6 columns]\n"
     ]
    }
   ],
   "source": [
    "print(df)"
   ]
  },
  {
   "cell_type": "code",
   "execution_count": 92,
   "metadata": {},
   "outputs": [
    {
     "name": "stdout",
     "output_type": "stream",
     "text": [
      "Mean Total Characters: 156.96563636363638\n"
     ]
    }
   ],
   "source": [
    "print(\"Mean Total Characters:\", mean_total_characters)"
   ]
  },
  {
   "cell_type": "code",
   "execution_count": 79,
   "metadata": {},
   "outputs": [],
   "source": [
    "# Menghitung jumlah karakter dan kata untuk setiap baris teks\n",
    "df['Total_Characters'] = df['text'].apply(count_characters)\n",
    "df['Total_Words'] = df['text'].apply(count_words)"
   ]
  },
  {
   "cell_type": "code",
   "execution_count": 80,
   "metadata": {},
   "outputs": [
    {
     "name": "stdout",
     "output_type": "stream",
     "text": [
      "                                                    text     label  \\\n",
      "0      warung ini dimiliki oleh pengusaha pabrik tahu...  positive   \n",
      "1      mohon ulama lurus dan k212 mmbri hujjah partai...   neutral   \n",
      "2      lokasi strategis di jalan sumatera bandung . t...  positive   \n",
      "3      betapa bahagia nya diri ini saat unboxing pake...  positive   \n",
      "4      duh . jadi mahasiswa jangan sombong dong . kas...  negative   \n",
      "...                                                  ...       ...   \n",
      "10995                                       tidak kecewa  positive   \n",
      "10996  enak rasa masakan nya apalagi kepiting yang me...  positive   \n",
      "10997        hormati partai-partai yang telah berkoalisi   neutral   \n",
      "10998  pagi pagi di tol pasteur sudah macet parah , b...  negative   \n",
      "10999  meskipun sering belanja ke yogya di riau junct...  positive   \n",
      "\n",
      "       Word_Count                                     Tokenized_Text  \\\n",
      "0              66  [warung, ini, dimiliki, oleh, pengusaha, pabri...   \n",
      "1              17  [mohon, ulama, lurus, dan, k212, mmbri, hujjah...   \n",
      "2              33  [lokasi, strategis, di, jalan, sumatera, bandu...   \n",
      "3              17  [betapa, bahagia, nya, diri, ini, saat, unboxi...   \n",
      "4              38  [duh, ., jadi, mahasiswa, jangan, sombong, don...   \n",
      "...           ...                                                ...   \n",
      "10995           2                                    [tidak, kecewa]   \n",
      "10996          26  [enak, rasa, masakan, nya, apalagi, kepiting, ...   \n",
      "10997           5  [hormati, partai-partai, yang, telah, berkoalisi]   \n",
      "10998          13  [pagi, pagi, di, tol, pasteur, sudah, macet, p...   \n",
      "10999          68  [meskipun, sering, belanja, ke, yogya, di, ria...   \n",
      "\n",
      "       Total_Words  Total_Characters  \n",
      "0               66               404  \n",
      "1               17               102  \n",
      "2               33               184  \n",
      "3               17                93  \n",
      "4               38               214  \n",
      "...            ...               ...  \n",
      "10995            2                12  \n",
      "10996           26               156  \n",
      "10997            5                43  \n",
      "10998           13                67  \n",
      "10999           68               387  \n",
      "\n",
      "[11000 rows x 6 columns]\n"
     ]
    }
   ],
   "source": [
    "print(df)"
   ]
  },
  {
   "cell_type": "code",
   "execution_count": 81,
   "metadata": {},
   "outputs": [
    {
     "name": "stdout",
     "output_type": "stream",
     "text": [
      "Total kata: 362470\n"
     ]
    }
   ],
   "source": [
    "total_words = df['Total_Words'].sum()\n",
    "print(\"Total kata:\", total_words)"
   ]
  },
  {
   "cell_type": "code",
   "execution_count": 82,
   "metadata": {},
   "outputs": [
    {
     "name": "stdout",
     "output_type": "stream",
     "text": [
      "Total karakter: 2077866\n"
     ]
    }
   ],
   "source": [
    "total_characters = df['Total_Characters'].sum()\n",
    "print(\"Total karakter:\", total_characters)\n"
   ]
  },
  {
   "cell_type": "code",
   "execution_count": 83,
   "metadata": {},
   "outputs": [],
   "source": [
    "# Hitung total karakter dan total kata dalam tiap teks\n",
    "total_characters = x_train.apply(len)\n",
    "total_words = x_train.apply(lambda x: len(x.split()))"
   ]
  },
  {
   "cell_type": "code",
   "execution_count": 114,
   "metadata": {},
   "outputs": [
    {
     "data": {
      "image/png": "[encoded data removed]",
      "text/plain": [
       "<Figure size 800x600 with 1 Axes>"
      ]
     },
     "metadata": {},
     "output_type": "display_data"
    }
   ],
   "source": [
    "# Hitung nilai rata-rata (mean)\n",
    "mean_value = df['Total_Characters'].mean()\n",
    "\n",
    "# Membuat histogram menggunakan Seaborn\n",
    "plt.figure(figsize=(8, 6))\n",
    "sns.histplot(df['Total_Characters'], bins=10, color='skyblue', kde=False)\n",
    "plt.xlabel('Total Characters')\n",
    "plt.ylabel('Frequency')\n",
    "plt.title('Histogram of Total Characters')\n",
    "plt.axvline(x=mean_value, color='red', linestyle='dashed', linewidth=2, label='Mean') # Menambahkan garis rata-rata (mean) pada histogram\n",
    "plt.text(plt.gca().get_xlim()[1] - 5, plt.gca().get_ylim()[0] + 5, f'Mean: {mean_value:.2f}', color='black', ha='right', va='bottom')\n",
    "plt.legend()\n",
    "plt.grid(True)\n",
    "plt.show()"
   ]
  },
  {
   "cell_type": "code",
   "execution_count": 90,
   "metadata": {},
   "outputs": [
    {
     "data": {
      "image/png": "[encoded data removed]",
      "text/plain": [
       "<Figure size 800x600 with 1 Axes>"
      ]
     },
     "metadata": {},
     "output_type": "display_data"
    }
   ],
   "source": [
    "# Membuat Histogram of Total Words\n",
    "plt.figure(figsize=(8, 6))\n",
    "plt.hist(total_words, bins=10, color='salmon', edgecolor='black')\n",
    "plt.axvline(x=mean_value, color='red', linestyle='dashed', linewidth=2, label='Mean')  # Menambahkan garis rata-rata (mean)\n",
    "plt.xlabel('Total Words')\n",
    "plt.ylabel('Frequency')\n",
    "plt.title('Histogram of Total Words')\n",
    "plt.text(plt.gca().get_xlim()[1] - 5, plt.gca().get_ylim()[0] + 5, f'Mean: {mean_value:.2f}', color='black', ha='right', va='bottom') \n",
    "plt.legend()  # Menampilkan label garis rata-rata (mean) pada legenda\n",
    "plt.grid(True)\n",
    "plt.show()"
   ]
  },
  {
   "cell_type": "code",
   "execution_count": 77,
   "metadata": {
    "scrolled": false
   },
   "outputs": [
    {
     "data": {
      "text/html": [
       "<div>\n",
       "<style scoped>\n",
       "    .dataframe tbody tr th:only-of-type {\n",
       "        vertical-align: middle;\n",
       "    }\n",
       "\n",
       "    .dataframe tbody tr th {\n",
       "        vertical-align: top;\n",
       "    }\n",
       "\n",
       "    .dataframe thead th {\n",
       "        text-align: right;\n",
       "    }\n",
       "</style>\n",
       "<table border=\"1\" class=\"dataframe\">\n",
       "  <thead>\n",
       "    <tr style=\"text-align: right;\">\n",
       "      <th></th>\n",
       "      <th>Word_Count</th>\n",
       "      <th>Total_Words</th>\n",
       "      <th>Total_Characters</th>\n",
       "    </tr>\n",
       "  </thead>\n",
       "  <tbody>\n",
       "    <tr>\n",
       "      <th>count</th>\n",
       "      <td>11000.000000</td>\n",
       "      <td>11000.000000</td>\n",
       "      <td>11000.000000</td>\n",
       "    </tr>\n",
       "    <tr>\n",
       "      <th>mean</th>\n",
       "      <td>32.931273</td>\n",
       "      <td>32.951818</td>\n",
       "      <td>156.965636</td>\n",
       "    </tr>\n",
       "    <tr>\n",
       "      <th>std</th>\n",
       "      <td>21.181529</td>\n",
       "      <td>21.194179</td>\n",
       "      <td>100.122860</td>\n",
       "    </tr>\n",
       "    <tr>\n",
       "      <th>min</th>\n",
       "      <td>1.000000</td>\n",
       "      <td>1.000000</td>\n",
       "      <td>3.000000</td>\n",
       "    </tr>\n",
       "    <tr>\n",
       "      <th>25%</th>\n",
       "      <td>16.000000</td>\n",
       "      <td>16.000000</td>\n",
       "      <td>75.000000</td>\n",
       "    </tr>\n",
       "    <tr>\n",
       "      <th>50%</th>\n",
       "      <td>28.000000</td>\n",
       "      <td>28.000000</td>\n",
       "      <td>133.000000</td>\n",
       "    </tr>\n",
       "    <tr>\n",
       "      <th>75%</th>\n",
       "      <td>48.000000</td>\n",
       "      <td>48.000000</td>\n",
       "      <td>228.000000</td>\n",
       "    </tr>\n",
       "    <tr>\n",
       "      <th>max</th>\n",
       "      <td>110.000000</td>\n",
       "      <td>110.000000</td>\n",
       "      <td>477.000000</td>\n",
       "    </tr>\n",
       "  </tbody>\n",
       "</table>\n",
       "</div>"
      ],
      "text/plain": [
       "         Word_Count   Total_Words  Total_Characters\n",
       "count  11000.000000  11000.000000      11000.000000\n",
       "mean      32.931273     32.951818        156.965636\n",
       "std       21.181529     21.194179        100.122860\n",
       "min        1.000000      1.000000          3.000000\n",
       "25%       16.000000     16.000000         75.000000\n",
       "50%       28.000000     28.000000        133.000000\n",
       "75%       48.000000     48.000000        228.000000\n",
       "max      110.000000    110.000000        477.000000"
      ]
     },
     "execution_count": 77,
     "metadata": {},
     "output_type": "execute_result"
    }
   ],
   "source": [
    "df.describe()"
   ]
  },
  {
   "cell_type": "code",
   "execution_count": 122,
   "metadata": {
    "scrolled": true
   },
   "outputs": [],
   "source": [
    "# Menghitung total kata dari label positif (positive labels)\n",
    "positive_df = df[df['label'] == 'positive'].copy()  # Gunakan copy() untuk membuat salinan dari DataFrame 'df'\n",
    "positive_df['Total_Words'] = positive_df['text'].apply(count_words)"
   ]
  },
  {
   "cell_type": "code",
   "execution_count": 123,
   "metadata": {},
   "outputs": [
    {
     "name": "stdout",
     "output_type": "stream",
     "text": [
      "                                                    text  Total_Words\n",
      "0      warung ini dimiliki oleh pengusaha pabrik tahu...           66\n",
      "2      lokasi strategis di jalan sumatera bandung . t...           33\n",
      "3      betapa bahagia nya diri ini saat unboxing pake...           17\n",
      "5      makanan beragam , harga makanan di food stall ...           28\n",
      "7      tempat unik , bagus buat foto , makanan enak ,...           42\n",
      "...                                                  ...          ...\n",
      "10992  kalau memang jala nya sudah begitu terima saja...           10\n",
      "10994                                        tidak bosan            2\n",
      "10995                                       tidak kecewa            2\n",
      "10996  enak rasa masakan nya apalagi kepiting yang me...           26\n",
      "10999  meskipun sering belanja ke yogya di riau junct...           68\n",
      "\n",
      "[6416 rows x 2 columns]\n"
     ]
    }
   ],
   "source": [
    "# Menampilkan DataFrame dengan total kata pada label positif\n",
    "print(positive_df[['text', 'Total_Words']])"
   ]
  },
  {
   "cell_type": "code",
   "execution_count": 125,
   "metadata": {},
   "outputs": [
    {
     "data": {
      "image/png": "[encoded data removed]",
      "text/plain": [
       "<Figure size 800x600 with 1 Axes>"
      ]
     },
     "metadata": {},
     "output_type": "display_data"
    }
   ],
   "source": [
    "# Membuat histogram menggunakan Matplotlib\n",
    "plt.figure(figsize=(8, 6))\n",
    "plt.hist(positive_df['Total_Words'], bins=10, color='skyblue', edgecolor='black')\n",
    "plt.xlabel('Total Words')\n",
    "plt.ylabel('Frequency')\n",
    "plt.title('Histogram of Total Words (Positive Labels)')\n",
    "\n",
    "plt.grid(True)\n",
    "plt.show()"
   ]
  },
  {
   "cell_type": "code",
   "execution_count": 126,
   "metadata": {},
   "outputs": [],
   "source": [
    "negative_df = df[df['label'] == 'negative'].copy()  # Gunakan copy() untuk membuat salinan dari DataFrame 'df'\n",
    "negative_df['Total_Words'] = negative_df['text'].apply(count_words)"
   ]
  },
  {
   "cell_type": "code",
   "execution_count": 130,
   "metadata": {},
   "outputs": [
    {
     "name": "stdout",
     "output_type": "stream",
     "text": [
      "                                                    text  Total_Words\n",
      "4      duh . jadi mahasiswa jangan sombong dong . kas...           38\n",
      "6      pakai kartu kredit bca tidak untung malah rugi...            9\n",
      "10     simcard indosat inaktiv gara-gara lupa isi pul...           19\n",
      "11     sifat iri sering muncul pada orang orang yang ...           12\n",
      "13     pengalaman bersama indosat hari ini , semoga t...           20\n",
      "...                                                  ...          ...\n",
      "10982  tolong dibaca pesan saya ! di dalam kotak hand...           19\n",
      "10985  sumpah gue kecewa banget dengan sms , cuma tea...           24\n",
      "10989  tadinya pengin mengantar teman dari kalau ke r...           49\n",
      "10991                                dapat rom awal abad            4\n",
      "10998  pagi pagi di tol pasteur sudah macet parah , b...           13\n",
      "\n",
      "[3436 rows x 2 columns]\n"
     ]
    }
   ],
   "source": [
    "# Menampilkan DataFrame dengan total kata pada label negative\n",
    "print(negative_df[['text', 'Total_Words']])"
   ]
  },
  {
   "cell_type": "code",
   "execution_count": 129,
   "metadata": {},
   "outputs": [
    {
     "data": {
      "image/png": "[encoded data removed]",
      "text/plain": [
       "<Figure size 800x600 with 1 Axes>"
      ]
     },
     "metadata": {},
     "output_type": "display_data"
    }
   ],
   "source": [
    "# Membuat histogram menggunakan Matplotlib\n",
    "plt.figure(figsize=(8, 6))\n",
    "plt.hist(negative_df['Total_Words'], bins=10, color='lightcoral', edgecolor='black')\n",
    "plt.xlabel('Total Words')\n",
    "plt.ylabel('Frequency')\n",
    "plt.title('Histogram of Total Words (Negative Labels)')\n",
    "\n",
    "plt.grid(True)\n",
    "plt.show()"
   ]
  },
  {
   "cell_type": "code",
   "execution_count": 131,
   "metadata": {},
   "outputs": [],
   "source": [
    "# Menghitung total kata dari label netral (neutral labels)\n",
    "neutral_df = df[df['label'] == 'neutral'].copy()  # Gunakan copy() untuk membuat salinan dari DataFrame 'df'\n",
    "neutral_df['Total_Words'] = neutral_df['text'].apply(count_words)"
   ]
  },
  {
   "cell_type": "code",
   "execution_count": 132,
   "metadata": {},
   "outputs": [
    {
     "name": "stdout",
     "output_type": "stream",
     "text": [
      "                                                    text  Total_Words\n",
      "1      mohon ulama lurus dan k212 mmbri hujjah partai...           17\n",
      "16     setiap bumn dibentuk dengan uu bukan dibentuk ...           10\n",
      "28     pdip sebut ridwan kamil menang karena berbaju ...            8\n",
      "32     08:30 : kedatangan presiden ri dan rombongan d...           38\n",
      "37     risma menjatuhkan pilihan nya pada gus ipul - ...           15\n",
      "...                                                  ...          ...\n",
      "10925  pkb benarkan charly setia band daftar jadi caw...           10\n",
      "10967  pernah percaya kalau body lotion citra bikin b...           10\n",
      "10969  bu susi marah , menteri luhut perbolehkan kapa...           17\n",
      "10993  f - demokrat dorong upaya kemandirian energi n...            8\n",
      "10997        hormati partai-partai yang telah berkoalisi            5\n",
      "\n",
      "[1148 rows x 2 columns]\n"
     ]
    }
   ],
   "source": [
    "# Menampilkan DataFrame dengan total kata pada label neutral\n",
    "print(neutral_df[['text', 'Total_Words']])"
   ]
  },
  {
   "cell_type": "code",
   "execution_count": 134,
   "metadata": {},
   "outputs": [
    {
     "data": {
      "image/png": "[encoded data removed]",
      "text/plain": [
       "<Figure size 800x600 with 1 Axes>"
      ]
     },
     "metadata": {},
     "output_type": "display_data"
    }
   ],
   "source": [
    "# Membuat histogram menggunakan Matplotlib\n",
    "plt.figure(figsize=(8, 6))\n",
    "plt.hist(neutral_df['Total_Words'], bins=10, color='lightgreen', edgecolor='black')\n",
    "plt.xlabel('Total Words')\n",
    "plt.ylabel('Frequency')\n",
    "plt.title('Histogram of Total Words (Negative Labels)')\n",
    "\n",
    "plt.grid(True)\n",
    "plt.show()"
   ]
  },
  {
   "cell_type": "code",
   "execution_count": null,
   "metadata": {},
   "outputs": [],
   "source": []
  }
 ],
 "metadata": {
  "colab": {
   "provenance": [],
   "toc_visible": true
  },
  "kernelspec": {
   "display_name": "Python 3 (ipykernel)",
   "language": "python",
   "name": "python3"
  },
  "language_info": {
   "codemirror_mode": {
    "name": "ipython",
    "version": 3
   },
   "file_extension": ".py",
   "mimetype": "text/x-python",
   "name": "python",
   "nbconvert_exporter": "python",
   "pygments_lexer": "ipython3",
   "version": "3.10.9"
  }
 },
 "nbformat": 4,
 "nbformat_minor": 1
}
